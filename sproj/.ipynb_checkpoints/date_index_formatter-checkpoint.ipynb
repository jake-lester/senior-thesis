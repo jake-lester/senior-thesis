{
 "cells": [
  {
   "cell_type": "code",
   "execution_count": null,
   "metadata": {
    "collapsed": false
   },
   "outputs": [],
   "source": [
    "%matplotlib inline"
   ]
  },
  {
   "cell_type": "markdown",
   "metadata": {},
   "source": [
    "\n# Custom tick formatter for time series\n\n\nWhen plotting time series, e.g., financial time series, one often wants\nto leave out days on which there is no data, i.e. weekends.  The example\nbelow shows how to use an 'index formatter' to achieve the desired plot\n\n"
   ]
  },
  {
   "cell_type": "code",
   "execution_count": null,
   "metadata": {
    "collapsed": false
   },
   "outputs": [],
   "source": [
    "import numpy as np\nimport matplotlib.pyplot as plt\nimport matplotlib.cbook as cbook\nimport matplotlib.ticker as ticker\n\n# Load a numpy record array from yahoo csv data with fields date, open, close,\n# volume, adj_close from the mpl-data/example directory. The record array\n# stores the date as an np.datetime64 with a day unit ('D') in the date column.\nwith cbook.get_sample_data('goog.npz') as datafile:\n    r = np.load(datafile)['price_data'].view(np.recarray)\nr = r[-30:]  # get the last 30 days\n# Matplotlib works better with datetime.datetime than np.datetime64, but the\n# latter is more portable.\ndate = r.date.astype('O')\n\n# first we'll do it the default way, with gaps on weekends\nfig, axes = plt.subplots(ncols=2, figsize=(8, 4))\nax = axes[0]\nax.plot(date, r.adj_close, 'o-')\nax.set_title(\"Default\")\nfig.autofmt_xdate()\n\n# next we'll write a custom formatter\nN = len(r)\nind = np.arange(N)  # the evenly spaced plot indices\n\n\ndef format_date(x, pos=None):\n    thisind = np.clip(int(x + 0.5), 0, N - 1)\n    return date[thisind].strftime('%Y-%m-%d')\n\nax = axes[1]\nax.plot(ind, r.adj_close, 'o-')\nax.xaxis.set_major_formatter(ticker.FuncFormatter(format_date))\nax.set_title(\"Custom tick formatter\")\nfig.autofmt_xdate()\n\nplt.show()"
   ]
  }
 ],
 "metadata": {
  "kernelspec": {
   "display_name": "Python 3",
   "language": "python",
   "name": "python3"
  },
  "language_info": {
   "codemirror_mode": {
    "name": "ipython",
    "version": 3
   },
   "file_extension": ".py",
   "mimetype": "text/x-python",
   "name": "python",
   "nbconvert_exporter": "python",
   "pygments_lexer": "ipython3",
   "version": "3.7.0"
  }
 },
 "nbformat": 4,
 "nbformat_minor": 0
}
