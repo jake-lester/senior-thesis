{
 "cells": [
  {
   "cell_type": "code",
   "execution_count": 1,
   "metadata": {},
   "outputs": [],
   "source": [
    "from load import prepare_data\n",
    "from corelation import CorMatrix, make_data, iterate_cor"
   ]
  },
  {
   "cell_type": "code",
   "execution_count": null,
   "metadata": {},
   "outputs": [],
   "source": []
  },
  {
   "cell_type": "code",
   "execution_count": 3,
   "metadata": {},
   "outputs": [],
   "source": [
    "vix_df, spx_df, tweet_df = prepare_data()\n",
    "co = CorMatrix(vix_df, spx_df, tweet_df)\n",
    "groups = [\"1T\", \"5T\", \"15T\", \"30T\", \"60T\", \"120T\", \"180T\"]\n",
    "deltas = [i for i in range(0, 8)]\n",
    "DATA = make_data(groups, deltas)\n",
    "DATA = iterate_cor(co, DATA)"
   ]
  },
  {
   "cell_type": "code",
   "execution_count": 4,
   "metadata": {},
   "outputs": [
    {
     "data": {
      "text/html": [
       "<div>\n",
       "<style scoped>\n",
       "    .dataframe tbody tr th:only-of-type {\n",
       "        vertical-align: middle;\n",
       "    }\n",
       "\n",
       "    .dataframe tbody tr th {\n",
       "        vertical-align: top;\n",
       "    }\n",
       "\n",
       "    .dataframe thead th {\n",
       "        text-align: right;\n",
       "    }\n",
       "</style>\n",
       "<table border=\"1\" class=\"dataframe\">\n",
       "  <thead>\n",
       "    <tr style=\"text-align: right;\">\n",
       "      <th></th>\n",
       "      <th></th>\n",
       "      <th>spx:tweet</th>\n",
       "      <th>vix:tweet</th>\n",
       "      <th>spx:vix</th>\n",
       "    </tr>\n",
       "    <tr>\n",
       "      <th>groups</th>\n",
       "      <th>deltas</th>\n",
       "      <th></th>\n",
       "      <th></th>\n",
       "      <th></th>\n",
       "    </tr>\n",
       "  </thead>\n",
       "  <tbody>\n",
       "    <tr>\n",
       "      <th rowspan=\"5\" valign=\"top\">1T</th>\n",
       "      <th>0</th>\n",
       "      <td>-0.048262</td>\n",
       "      <td>0.020141</td>\n",
       "      <td>-0.454840</td>\n",
       "    </tr>\n",
       "    <tr>\n",
       "      <th>1</th>\n",
       "      <td>-0.048262</td>\n",
       "      <td>0.019895</td>\n",
       "      <td>-0.454849</td>\n",
       "    </tr>\n",
       "    <tr>\n",
       "      <th>2</th>\n",
       "      <td>-0.048262</td>\n",
       "      <td>0.019898</td>\n",
       "      <td>-0.454849</td>\n",
       "    </tr>\n",
       "    <tr>\n",
       "      <th>3</th>\n",
       "      <td>-0.048262</td>\n",
       "      <td>0.019626</td>\n",
       "      <td>-0.454842</td>\n",
       "    </tr>\n",
       "    <tr>\n",
       "      <th>4</th>\n",
       "      <td>-0.048262</td>\n",
       "      <td>0.019626</td>\n",
       "      <td>-0.454839</td>\n",
       "    </tr>\n",
       "  </tbody>\n",
       "</table>\n",
       "</div>"
      ],
      "text/plain": [
       "               spx:tweet  vix:tweet   spx:vix\n",
       "groups deltas                                \n",
       "1T     0       -0.048262   0.020141 -0.454840\n",
       "       1       -0.048262   0.019895 -0.454849\n",
       "       2       -0.048262   0.019898 -0.454849\n",
       "       3       -0.048262   0.019626 -0.454842\n",
       "       4       -0.048262   0.019626 -0.454839"
      ]
     },
     "execution_count": 4,
     "metadata": {},
     "output_type": "execute_result"
    }
   ],
   "source": [
    "DATA.head()"
   ]
  },
  {
   "cell_type": "code",
   "execution_count": null,
   "metadata": {},
   "outputs": [],
   "source": [
    "\n",
    "df = DATA[\"vix:tweet\"]\n",
    "df = df.reset_index([0,1])\n",
    "df['groups'] = [g[:-1] for g in df['groups']]\n",
    "df"
   ]
  },
  {
   "cell_type": "code",
   "execution_count": null,
   "metadata": {},
   "outputs": [],
   "source": [
    "import matplotlib.pyplot as plt\n",
    "from mpl_toolkits.mplot3d import Axes3D\n",
    "#fig = plt.figure()\n",
    "#ax = fig.add_subplot(111, projection='3d')"
   ]
  },
  {
   "cell_type": "code",
   "execution_count": null,
   "metadata": {},
   "outputs": [],
   "source": [
    "df.drop('groups', axis=1).groupby(['deltas']).min().plot()#.plot(x='groups', y='spx:vix', kind=\"line\")\n",
    "df.drop('groups', axis=1).groupby(['deltas']).max().plot()"
   ]
  },
  {
   "cell_type": "code",
   "execution_count": null,
   "metadata": {},
   "outputs": [],
   "source": [
    "threedee = plt.figure().gca(projection='3d')\n",
    "threedee.scatter(df['groups'], df['deltas'], df['spx:tweet'])\n",
    "threedee.set_xlabel('groups')\n",
    "threedee.set_ylabel('deltas')\n",
    "threedee.set_zlabel('spx:tweet')\n",
    "plt.show()"
   ]
  },
  {
   "cell_type": "code",
   "execution_count": null,
   "metadata": {},
   "outputs": [],
   "source": []
  },
  {
   "cell_type": "code",
   "execution_count": null,
   "metadata": {},
   "outputs": [],
   "source": []
  }
 ],
 "metadata": {
  "kernelspec": {
   "display_name": "Python 3",
   "language": "python",
   "name": "python3"
  },
  "language_info": {
   "codemirror_mode": {
    "name": "ipython",
    "version": 3
   },
   "file_extension": ".py",
   "mimetype": "text/x-python",
   "name": "python",
   "nbconvert_exporter": "python",
   "pygments_lexer": "ipython3",
   "version": "3.7.7"
  }
 },
 "nbformat": 4,
 "nbformat_minor": 4
}
